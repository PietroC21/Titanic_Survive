{
 "cells": [
  {
   "cell_type": "code",
   "execution_count": 1,
   "id": "4e37d085",
   "metadata": {
    "_cell_guid": "b1076dfc-b9ad-4769-8c92-a6c4dae69d19",
    "_uuid": "8f2839f25d086af736a60e9eeb907d3b93b6e0e5",
    "execution": {
     "iopub.execute_input": "2023-12-22T04:01:14.468836Z",
     "iopub.status.busy": "2023-12-22T04:01:14.468430Z",
     "iopub.status.idle": "2023-12-22T04:01:17.093804Z",
     "shell.execute_reply": "2023-12-22T04:01:17.092668Z"
    },
    "papermill": {
     "duration": 2.638267,
     "end_time": "2023-12-22T04:01:17.096651",
     "exception": false,
     "start_time": "2023-12-22T04:01:14.458384",
     "status": "completed"
    },
    "tags": []
   },
   "outputs": [
    {
     "data": {
      "text/html": [
       "<div>\n",
       "<style scoped>\n",
       "    .dataframe tbody tr th:only-of-type {\n",
       "        vertical-align: middle;\n",
       "    }\n",
       "\n",
       "    .dataframe tbody tr th {\n",
       "        vertical-align: top;\n",
       "    }\n",
       "\n",
       "    .dataframe thead th {\n",
       "        text-align: right;\n",
       "    }\n",
       "</style>\n",
       "<table border=\"1\" class=\"dataframe\">\n",
       "  <thead>\n",
       "    <tr style=\"text-align: right;\">\n",
       "      <th></th>\n",
       "      <th>PassengerId</th>\n",
       "      <th>Survived</th>\n",
       "      <th>Pclass</th>\n",
       "      <th>Name</th>\n",
       "      <th>Sex</th>\n",
       "      <th>Age</th>\n",
       "      <th>SibSp</th>\n",
       "      <th>Parch</th>\n",
       "      <th>Ticket</th>\n",
       "      <th>Fare</th>\n",
       "      <th>Cabin</th>\n",
       "      <th>Embarked</th>\n",
       "    </tr>\n",
       "  </thead>\n",
       "  <tbody>\n",
       "    <tr>\n",
       "      <th>0</th>\n",
       "      <td>1</td>\n",
       "      <td>0</td>\n",
       "      <td>3</td>\n",
       "      <td>Braund, Mr. Owen Harris</td>\n",
       "      <td>male</td>\n",
       "      <td>22.0</td>\n",
       "      <td>1</td>\n",
       "      <td>0</td>\n",
       "      <td>A/5 21171</td>\n",
       "      <td>7.2500</td>\n",
       "      <td>NaN</td>\n",
       "      <td>S</td>\n",
       "    </tr>\n",
       "    <tr>\n",
       "      <th>1</th>\n",
       "      <td>2</td>\n",
       "      <td>1</td>\n",
       "      <td>1</td>\n",
       "      <td>Cumings, Mrs. John Bradley (Florence Briggs Th...</td>\n",
       "      <td>female</td>\n",
       "      <td>38.0</td>\n",
       "      <td>1</td>\n",
       "      <td>0</td>\n",
       "      <td>PC 17599</td>\n",
       "      <td>71.2833</td>\n",
       "      <td>C85</td>\n",
       "      <td>C</td>\n",
       "    </tr>\n",
       "    <tr>\n",
       "      <th>2</th>\n",
       "      <td>3</td>\n",
       "      <td>1</td>\n",
       "      <td>3</td>\n",
       "      <td>Heikkinen, Miss. Laina</td>\n",
       "      <td>female</td>\n",
       "      <td>26.0</td>\n",
       "      <td>0</td>\n",
       "      <td>0</td>\n",
       "      <td>STON/O2. 3101282</td>\n",
       "      <td>7.9250</td>\n",
       "      <td>NaN</td>\n",
       "      <td>S</td>\n",
       "    </tr>\n",
       "    <tr>\n",
       "      <th>3</th>\n",
       "      <td>4</td>\n",
       "      <td>1</td>\n",
       "      <td>1</td>\n",
       "      <td>Futrelle, Mrs. Jacques Heath (Lily May Peel)</td>\n",
       "      <td>female</td>\n",
       "      <td>35.0</td>\n",
       "      <td>1</td>\n",
       "      <td>0</td>\n",
       "      <td>113803</td>\n",
       "      <td>53.1000</td>\n",
       "      <td>C123</td>\n",
       "      <td>S</td>\n",
       "    </tr>\n",
       "    <tr>\n",
       "      <th>4</th>\n",
       "      <td>5</td>\n",
       "      <td>0</td>\n",
       "      <td>3</td>\n",
       "      <td>Allen, Mr. William Henry</td>\n",
       "      <td>male</td>\n",
       "      <td>35.0</td>\n",
       "      <td>0</td>\n",
       "      <td>0</td>\n",
       "      <td>373450</td>\n",
       "      <td>8.0500</td>\n",
       "      <td>NaN</td>\n",
       "      <td>S</td>\n",
       "    </tr>\n",
       "    <tr>\n",
       "      <th>...</th>\n",
       "      <td>...</td>\n",
       "      <td>...</td>\n",
       "      <td>...</td>\n",
       "      <td>...</td>\n",
       "      <td>...</td>\n",
       "      <td>...</td>\n",
       "      <td>...</td>\n",
       "      <td>...</td>\n",
       "      <td>...</td>\n",
       "      <td>...</td>\n",
       "      <td>...</td>\n",
       "      <td>...</td>\n",
       "    </tr>\n",
       "    <tr>\n",
       "      <th>886</th>\n",
       "      <td>887</td>\n",
       "      <td>0</td>\n",
       "      <td>2</td>\n",
       "      <td>Montvila, Rev. Juozas</td>\n",
       "      <td>male</td>\n",
       "      <td>27.0</td>\n",
       "      <td>0</td>\n",
       "      <td>0</td>\n",
       "      <td>211536</td>\n",
       "      <td>13.0000</td>\n",
       "      <td>NaN</td>\n",
       "      <td>S</td>\n",
       "    </tr>\n",
       "    <tr>\n",
       "      <th>887</th>\n",
       "      <td>888</td>\n",
       "      <td>1</td>\n",
       "      <td>1</td>\n",
       "      <td>Graham, Miss. Margaret Edith</td>\n",
       "      <td>female</td>\n",
       "      <td>19.0</td>\n",
       "      <td>0</td>\n",
       "      <td>0</td>\n",
       "      <td>112053</td>\n",
       "      <td>30.0000</td>\n",
       "      <td>B42</td>\n",
       "      <td>S</td>\n",
       "    </tr>\n",
       "    <tr>\n",
       "      <th>888</th>\n",
       "      <td>889</td>\n",
       "      <td>0</td>\n",
       "      <td>3</td>\n",
       "      <td>Johnston, Miss. Catherine Helen \"Carrie\"</td>\n",
       "      <td>female</td>\n",
       "      <td>NaN</td>\n",
       "      <td>1</td>\n",
       "      <td>2</td>\n",
       "      <td>W./C. 6607</td>\n",
       "      <td>23.4500</td>\n",
       "      <td>NaN</td>\n",
       "      <td>S</td>\n",
       "    </tr>\n",
       "    <tr>\n",
       "      <th>889</th>\n",
       "      <td>890</td>\n",
       "      <td>1</td>\n",
       "      <td>1</td>\n",
       "      <td>Behr, Mr. Karl Howell</td>\n",
       "      <td>male</td>\n",
       "      <td>26.0</td>\n",
       "      <td>0</td>\n",
       "      <td>0</td>\n",
       "      <td>111369</td>\n",
       "      <td>30.0000</td>\n",
       "      <td>C148</td>\n",
       "      <td>C</td>\n",
       "    </tr>\n",
       "    <tr>\n",
       "      <th>890</th>\n",
       "      <td>891</td>\n",
       "      <td>0</td>\n",
       "      <td>3</td>\n",
       "      <td>Dooley, Mr. Patrick</td>\n",
       "      <td>male</td>\n",
       "      <td>32.0</td>\n",
       "      <td>0</td>\n",
       "      <td>0</td>\n",
       "      <td>370376</td>\n",
       "      <td>7.7500</td>\n",
       "      <td>NaN</td>\n",
       "      <td>Q</td>\n",
       "    </tr>\n",
       "  </tbody>\n",
       "</table>\n",
       "<p>891 rows × 12 columns</p>\n",
       "</div>"
      ],
      "text/plain": [
       "     PassengerId  Survived  Pclass  \\\n",
       "0              1         0       3   \n",
       "1              2         1       1   \n",
       "2              3         1       3   \n",
       "3              4         1       1   \n",
       "4              5         0       3   \n",
       "..           ...       ...     ...   \n",
       "886          887         0       2   \n",
       "887          888         1       1   \n",
       "888          889         0       3   \n",
       "889          890         1       1   \n",
       "890          891         0       3   \n",
       "\n",
       "                                                  Name     Sex   Age  SibSp  \\\n",
       "0                              Braund, Mr. Owen Harris    male  22.0      1   \n",
       "1    Cumings, Mrs. John Bradley (Florence Briggs Th...  female  38.0      1   \n",
       "2                               Heikkinen, Miss. Laina  female  26.0      0   \n",
       "3         Futrelle, Mrs. Jacques Heath (Lily May Peel)  female  35.0      1   \n",
       "4                             Allen, Mr. William Henry    male  35.0      0   \n",
       "..                                                 ...     ...   ...    ...   \n",
       "886                              Montvila, Rev. Juozas    male  27.0      0   \n",
       "887                       Graham, Miss. Margaret Edith  female  19.0      0   \n",
       "888           Johnston, Miss. Catherine Helen \"Carrie\"  female   NaN      1   \n",
       "889                              Behr, Mr. Karl Howell    male  26.0      0   \n",
       "890                                Dooley, Mr. Patrick    male  32.0      0   \n",
       "\n",
       "     Parch            Ticket     Fare Cabin Embarked  \n",
       "0        0         A/5 21171   7.2500   NaN        S  \n",
       "1        0          PC 17599  71.2833   C85        C  \n",
       "2        0  STON/O2. 3101282   7.9250   NaN        S  \n",
       "3        0            113803  53.1000  C123        S  \n",
       "4        0            373450   8.0500   NaN        S  \n",
       "..     ...               ...      ...   ...      ...  \n",
       "886      0            211536  13.0000   NaN        S  \n",
       "887      0            112053  30.0000   B42        S  \n",
       "888      2        W./C. 6607  23.4500   NaN        S  \n",
       "889      0            111369  30.0000  C148        C  \n",
       "890      0            370376   7.7500   NaN        Q  \n",
       "\n",
       "[891 rows x 12 columns]"
      ]
     },
     "execution_count": 1,
     "metadata": {},
     "output_type": "execute_result"
    }
   ],
   "source": [
    "import numpy as np \n",
    "import pandas as pd\n",
    "import seaborn as sns\n",
    "import matplotlib.pyplot as plt\n",
    "from sklearn.ensemble import RandomForestClassifier\n",
    "from sklearn.preprocessing import LabelEncoder\n",
    "from sklearn.model_selection import train_test_split\n",
    "from sklearn.metrics import accuracy_score, confusion_matrix, f1_score, ConfusionMatrixDisplay\n",
    "from imblearn.over_sampling import RandomOverSampler\n",
    "from sklearn.linear_model import LogisticRegression\n",
    "\n",
    "\n",
    "\n",
    "train_data = pd.read_csv('/kaggle/input/titanic/train.csv')\n",
    "test_data = pd.read_csv('/kaggle/input/titanic/test.csv')\n",
    "train_data"
   ]
  },
  {
   "cell_type": "code",
   "execution_count": 2,
   "id": "d5500709",
   "metadata": {
    "execution": {
     "iopub.execute_input": "2023-12-22T04:01:17.114996Z",
     "iopub.status.busy": "2023-12-22T04:01:17.114614Z",
     "iopub.status.idle": "2023-12-22T04:01:17.477223Z",
     "shell.execute_reply": "2023-12-22T04:01:17.475938Z"
    },
    "papermill": {
     "duration": 0.375176,
     "end_time": "2023-12-22T04:01:17.480092",
     "exception": false,
     "start_time": "2023-12-22T04:01:17.104916",
     "status": "completed"
    },
    "tags": []
   },
   "outputs": [
    {
     "data": {
      "image/png": "[encoded data removed]",
      "text/plain": [
       "<Figure size 640x480 with 1 Axes>"
      ]
     },
     "metadata": {},
     "output_type": "display_data"
    }
   ],
   "source": [
    "sns.boxplot(data=train_data, y = 'Age', x = 'Survived', hue = 'Sex')\n",
    "plt.show()"
   ]
  },
  {
   "cell_type": "code",
   "execution_count": 3,
   "id": "8762e15b",
   "metadata": {
    "execution": {
     "iopub.execute_input": "2023-12-22T04:01:17.499300Z",
     "iopub.status.busy": "2023-12-22T04:01:17.498828Z",
     "iopub.status.idle": "2023-12-22T04:01:17.526404Z",
     "shell.execute_reply": "2023-12-22T04:01:17.525127Z"
    },
    "papermill": {
     "duration": 0.040089,
     "end_time": "2023-12-22T04:01:17.528932",
     "exception": false,
     "start_time": "2023-12-22T04:01:17.488843",
     "status": "completed"
    },
    "tags": []
   },
   "outputs": [
    {
     "data": {
      "text/html": [
       "<div>\n",
       "<style scoped>\n",
       "    .dataframe tbody tr th:only-of-type {\n",
       "        vertical-align: middle;\n",
       "    }\n",
       "\n",
       "    .dataframe tbody tr th {\n",
       "        vertical-align: top;\n",
       "    }\n",
       "\n",
       "    .dataframe thead th {\n",
       "        text-align: right;\n",
       "    }\n",
       "</style>\n",
       "<table border=\"1\" class=\"dataframe\">\n",
       "  <thead>\n",
       "    <tr style=\"text-align: right;\">\n",
       "      <th></th>\n",
       "      <th>PassengerId</th>\n",
       "      <th>Survived</th>\n",
       "      <th>Pclass</th>\n",
       "      <th>Name</th>\n",
       "      <th>Sex</th>\n",
       "      <th>Age</th>\n",
       "      <th>SibSp</th>\n",
       "      <th>Parch</th>\n",
       "      <th>Ticket</th>\n",
       "      <th>Fare</th>\n",
       "      <th>Cabin</th>\n",
       "      <th>Embarked</th>\n",
       "    </tr>\n",
       "  </thead>\n",
       "  <tbody>\n",
       "    <tr>\n",
       "      <th>17</th>\n",
       "      <td>18</td>\n",
       "      <td>1</td>\n",
       "      <td>2</td>\n",
       "      <td>Williams, Mr. Charles Eugene</td>\n",
       "      <td>male</td>\n",
       "      <td>NaN</td>\n",
       "      <td>0</td>\n",
       "      <td>0</td>\n",
       "      <td>244373</td>\n",
       "      <td>13.0000</td>\n",
       "      <td>NaN</td>\n",
       "      <td>S</td>\n",
       "    </tr>\n",
       "    <tr>\n",
       "      <th>21</th>\n",
       "      <td>22</td>\n",
       "      <td>1</td>\n",
       "      <td>2</td>\n",
       "      <td>Beesley, Mr. Lawrence</td>\n",
       "      <td>male</td>\n",
       "      <td>34.0</td>\n",
       "      <td>0</td>\n",
       "      <td>0</td>\n",
       "      <td>248698</td>\n",
       "      <td>13.0000</td>\n",
       "      <td>D56</td>\n",
       "      <td>S</td>\n",
       "    </tr>\n",
       "    <tr>\n",
       "      <th>23</th>\n",
       "      <td>24</td>\n",
       "      <td>1</td>\n",
       "      <td>1</td>\n",
       "      <td>Sloper, Mr. William Thompson</td>\n",
       "      <td>male</td>\n",
       "      <td>28.0</td>\n",
       "      <td>0</td>\n",
       "      <td>0</td>\n",
       "      <td>113788</td>\n",
       "      <td>35.5000</td>\n",
       "      <td>A6</td>\n",
       "      <td>S</td>\n",
       "    </tr>\n",
       "    <tr>\n",
       "      <th>36</th>\n",
       "      <td>37</td>\n",
       "      <td>1</td>\n",
       "      <td>3</td>\n",
       "      <td>Mamee, Mr. Hanna</td>\n",
       "      <td>male</td>\n",
       "      <td>NaN</td>\n",
       "      <td>0</td>\n",
       "      <td>0</td>\n",
       "      <td>2677</td>\n",
       "      <td>7.2292</td>\n",
       "      <td>NaN</td>\n",
       "      <td>C</td>\n",
       "    </tr>\n",
       "    <tr>\n",
       "      <th>55</th>\n",
       "      <td>56</td>\n",
       "      <td>1</td>\n",
       "      <td>1</td>\n",
       "      <td>Woolner, Mr. Hugh</td>\n",
       "      <td>male</td>\n",
       "      <td>NaN</td>\n",
       "      <td>0</td>\n",
       "      <td>0</td>\n",
       "      <td>19947</td>\n",
       "      <td>35.5000</td>\n",
       "      <td>C52</td>\n",
       "      <td>S</td>\n",
       "    </tr>\n",
       "    <tr>\n",
       "      <th>...</th>\n",
       "      <td>...</td>\n",
       "      <td>...</td>\n",
       "      <td>...</td>\n",
       "      <td>...</td>\n",
       "      <td>...</td>\n",
       "      <td>...</td>\n",
       "      <td>...</td>\n",
       "      <td>...</td>\n",
       "      <td>...</td>\n",
       "      <td>...</td>\n",
       "      <td>...</td>\n",
       "      <td>...</td>\n",
       "    </tr>\n",
       "    <tr>\n",
       "      <th>838</th>\n",
       "      <td>839</td>\n",
       "      <td>1</td>\n",
       "      <td>3</td>\n",
       "      <td>Chip, Mr. Chang</td>\n",
       "      <td>male</td>\n",
       "      <td>32.0</td>\n",
       "      <td>0</td>\n",
       "      <td>0</td>\n",
       "      <td>1601</td>\n",
       "      <td>56.4958</td>\n",
       "      <td>NaN</td>\n",
       "      <td>S</td>\n",
       "    </tr>\n",
       "    <tr>\n",
       "      <th>839</th>\n",
       "      <td>840</td>\n",
       "      <td>1</td>\n",
       "      <td>1</td>\n",
       "      <td>Marechal, Mr. Pierre</td>\n",
       "      <td>male</td>\n",
       "      <td>NaN</td>\n",
       "      <td>0</td>\n",
       "      <td>0</td>\n",
       "      <td>11774</td>\n",
       "      <td>29.7000</td>\n",
       "      <td>C47</td>\n",
       "      <td>C</td>\n",
       "    </tr>\n",
       "    <tr>\n",
       "      <th>857</th>\n",
       "      <td>858</td>\n",
       "      <td>1</td>\n",
       "      <td>1</td>\n",
       "      <td>Daly, Mr. Peter Denis</td>\n",
       "      <td>male</td>\n",
       "      <td>51.0</td>\n",
       "      <td>0</td>\n",
       "      <td>0</td>\n",
       "      <td>113055</td>\n",
       "      <td>26.5500</td>\n",
       "      <td>E17</td>\n",
       "      <td>S</td>\n",
       "    </tr>\n",
       "    <tr>\n",
       "      <th>869</th>\n",
       "      <td>870</td>\n",
       "      <td>1</td>\n",
       "      <td>3</td>\n",
       "      <td>Johnson, Master. Harold Theodor</td>\n",
       "      <td>male</td>\n",
       "      <td>4.0</td>\n",
       "      <td>1</td>\n",
       "      <td>1</td>\n",
       "      <td>347742</td>\n",
       "      <td>11.1333</td>\n",
       "      <td>NaN</td>\n",
       "      <td>S</td>\n",
       "    </tr>\n",
       "    <tr>\n",
       "      <th>889</th>\n",
       "      <td>890</td>\n",
       "      <td>1</td>\n",
       "      <td>1</td>\n",
       "      <td>Behr, Mr. Karl Howell</td>\n",
       "      <td>male</td>\n",
       "      <td>26.0</td>\n",
       "      <td>0</td>\n",
       "      <td>0</td>\n",
       "      <td>111369</td>\n",
       "      <td>30.0000</td>\n",
       "      <td>C148</td>\n",
       "      <td>C</td>\n",
       "    </tr>\n",
       "  </tbody>\n",
       "</table>\n",
       "<p>109 rows × 12 columns</p>\n",
       "</div>"
      ],
      "text/plain": [
       "     PassengerId  Survived  Pclass                             Name   Sex  \\\n",
       "17            18         1       2     Williams, Mr. Charles Eugene  male   \n",
       "21            22         1       2            Beesley, Mr. Lawrence  male   \n",
       "23            24         1       1     Sloper, Mr. William Thompson  male   \n",
       "36            37         1       3                 Mamee, Mr. Hanna  male   \n",
       "55            56         1       1                Woolner, Mr. Hugh  male   \n",
       "..           ...       ...     ...                              ...   ...   \n",
       "838          839         1       3                  Chip, Mr. Chang  male   \n",
       "839          840         1       1             Marechal, Mr. Pierre  male   \n",
       "857          858         1       1           Daly, Mr. Peter Denis   male   \n",
       "869          870         1       3  Johnson, Master. Harold Theodor  male   \n",
       "889          890         1       1            Behr, Mr. Karl Howell  male   \n",
       "\n",
       "      Age  SibSp  Parch  Ticket     Fare Cabin Embarked  \n",
       "17    NaN      0      0  244373  13.0000   NaN        S  \n",
       "21   34.0      0      0  248698  13.0000   D56        S  \n",
       "23   28.0      0      0  113788  35.5000    A6        S  \n",
       "36    NaN      0      0    2677   7.2292   NaN        C  \n",
       "55    NaN      0      0   19947  35.5000   C52        S  \n",
       "..    ...    ...    ...     ...      ...   ...      ...  \n",
       "838  32.0      0      0    1601  56.4958   NaN        S  \n",
       "839   NaN      0      0   11774  29.7000   C47        C  \n",
       "857  51.0      0      0  113055  26.5500   E17        S  \n",
       "869   4.0      1      1  347742  11.1333   NaN        S  \n",
       "889  26.0      0      0  111369  30.0000  C148        C  \n",
       "\n",
       "[109 rows x 12 columns]"
      ]
     },
     "execution_count": 3,
     "metadata": {},
     "output_type": "execute_result"
    }
   ],
   "source": [
    "sur = train_data[train_data['Survived'] == 1] \n",
    "sur[sur['Sex'] == 'male']"
   ]
  },
  {
   "cell_type": "code",
   "execution_count": 4,
   "id": "5d8d5d97",
   "metadata": {
    "execution": {
     "iopub.execute_input": "2023-12-22T04:01:17.549201Z",
     "iopub.status.busy": "2023-12-22T04:01:17.548764Z",
     "iopub.status.idle": "2023-12-22T04:01:17.560467Z",
     "shell.execute_reply": "2023-12-22T04:01:17.559201Z"
    },
    "papermill": {
     "duration": 0.024658,
     "end_time": "2023-12-22T04:01:17.562846",
     "exception": false,
     "start_time": "2023-12-22T04:01:17.538188",
     "status": "completed"
    },
    "tags": []
   },
   "outputs": [
    {
     "name": "stdout",
     "output_type": "stream",
     "text": [
      "Percentage of Woman that survived 74.20\n",
      "Percentage of Man that survived 18.89\n"
     ]
    }
   ],
   "source": [
    "female = sum(sur[sur['Sex'] == 'female']['Survived'])/ len(train_data[train_data['Sex'] == 'female'])\n",
    "male = sum(sur[sur['Sex'] == 'male']['Survived'])/ len(train_data[train_data['Sex'] == 'male'])\n",
    "print(f'Percentage of Woman that survived {female*100:.2f}')\n",
    "print(f'Percentage of Man that survived {male*100:.2f}')"
   ]
  },
  {
   "cell_type": "code",
   "execution_count": 5,
   "id": "823e18c6",
   "metadata": {
    "execution": {
     "iopub.execute_input": "2023-12-22T04:01:17.583676Z",
     "iopub.status.busy": "2023-12-22T04:01:17.582690Z",
     "iopub.status.idle": "2023-12-22T04:01:17.593103Z",
     "shell.execute_reply": "2023-12-22T04:01:17.591869Z"
    },
    "papermill": {
     "duration": 0.023602,
     "end_time": "2023-12-22T04:01:17.595595",
     "exception": false,
     "start_time": "2023-12-22T04:01:17.571993",
     "status": "completed"
    },
    "tags": []
   },
   "outputs": [
    {
     "name": "stdout",
     "output_type": "stream",
     "text": [
      "PassengerId : 0\n",
      "Survived : 0\n",
      "Pclass : 0\n",
      "Name : 0\n",
      "Sex : 0\n",
      "Age : 177\n",
      "SibSp : 0\n",
      "Parch : 0\n",
      "Ticket : 0\n",
      "Fare : 0\n",
      "Cabin : 687\n",
      "Embarked : 2\n"
     ]
    }
   ],
   "source": [
    "for column in train_data.columns:\n",
    "    print(column,':',sum(train_data[column].isna()))\n",
    "\n"
   ]
  },
  {
   "cell_type": "code",
   "execution_count": 6,
   "id": "ed7dbde4",
   "metadata": {
    "execution": {
     "iopub.execute_input": "2023-12-22T04:01:17.616349Z",
     "iopub.status.busy": "2023-12-22T04:01:17.615431Z",
     "iopub.status.idle": "2023-12-22T04:01:17.624200Z",
     "shell.execute_reply": "2023-12-22T04:01:17.623018Z"
    },
    "papermill": {
     "duration": 0.021798,
     "end_time": "2023-12-22T04:01:17.626644",
     "exception": false,
     "start_time": "2023-12-22T04:01:17.604846",
     "status": "completed"
    },
    "tags": []
   },
   "outputs": [
    {
     "name": "stdout",
     "output_type": "stream",
     "text": [
      "PassengerId : 0\n",
      "Pclass : 0\n",
      "Name : 0\n",
      "Sex : 0\n",
      "Age : 86\n",
      "SibSp : 0\n",
      "Parch : 0\n",
      "Ticket : 0\n",
      "Fare : 1\n",
      "Cabin : 327\n",
      "Embarked : 0\n"
     ]
    }
   ],
   "source": [
    "for column in test_data.columns:\n",
    "    print(column,':',sum(test_data[column].isna()))\n",
    "\n"
   ]
  },
  {
   "cell_type": "code",
   "execution_count": 7,
   "id": "6a51c19b",
   "metadata": {
    "execution": {
     "iopub.execute_input": "2023-12-22T04:01:17.647420Z",
     "iopub.status.busy": "2023-12-22T04:01:17.646768Z",
     "iopub.status.idle": "2023-12-22T04:01:17.674642Z",
     "shell.execute_reply": "2023-12-22T04:01:17.673781Z"
    },
    "papermill": {
     "duration": 0.041306,
     "end_time": "2023-12-22T04:01:17.677424",
     "exception": false,
     "start_time": "2023-12-22T04:01:17.636118",
     "status": "completed"
    },
    "tags": []
   },
   "outputs": [],
   "source": [
    "#Since over 600 values are missing for cabin just drop the column and name and ticket\n",
    "test_data = test_data.drop(['Cabin','Name'], axis=1)\n",
    "#Drop the name also since its irrelvant as we have the passagerID\n",
    "\n",
    "#Take the mean age by Pclass  and replace nan values with that\n",
    "mean_age = test_data.groupby('Pclass')['Age'].mean()\n",
    "test_data['Age'] = test_data.apply(lambda row: mean_age[row['Pclass']] if np.isnan(row['Age']) else row['Age'], axis=1)\n",
    "\n",
    "#For missing value\n",
    "test_data[test_data['Fare'].isna()] = test_data[test_data['Pclass']==3]['Fare'].mean()"
   ]
  },
  {
   "cell_type": "code",
   "execution_count": 8,
   "id": "b49a7521",
   "metadata": {
    "execution": {
     "iopub.execute_input": "2023-12-22T04:01:17.700035Z",
     "iopub.status.busy": "2023-12-22T04:01:17.699200Z",
     "iopub.status.idle": "2023-12-22T04:01:17.727189Z",
     "shell.execute_reply": "2023-12-22T04:01:17.726174Z"
    },
    "papermill": {
     "duration": 0.043158,
     "end_time": "2023-12-22T04:01:17.730024",
     "exception": false,
     "start_time": "2023-12-22T04:01:17.686866",
     "status": "completed"
    },
    "tags": []
   },
   "outputs": [],
   "source": [
    "#Since over 600 values are missing for cabin just drop the column and name and ticket\n",
    "train_data = train_data.drop(['Cabin','Name'], axis=1)\n",
    "#Drop the name also since its irrelvant as we have the passagerID\n",
    "\n",
    "#Take the mean age by Pclass  and replace nan values with that\n",
    "mean_age = train_data.groupby('Pclass')['Age'].mean()\n",
    "train_data['Age'] = train_data.apply(lambda row: mean_age[row['Pclass']] if np.isnan(row['Age']) else row['Age'], axis=1)\n"
   ]
  },
  {
   "cell_type": "code",
   "execution_count": 9,
   "id": "070b8b11",
   "metadata": {
    "execution": {
     "iopub.execute_input": "2023-12-22T04:01:17.750820Z",
     "iopub.status.busy": "2023-12-22T04:01:17.750443Z",
     "iopub.status.idle": "2023-12-22T04:01:17.759187Z",
     "shell.execute_reply": "2023-12-22T04:01:17.758119Z"
    },
    "papermill": {
     "duration": 0.022131,
     "end_time": "2023-12-22T04:01:17.761588",
     "exception": false,
     "start_time": "2023-12-22T04:01:17.739457",
     "status": "completed"
    },
    "tags": []
   },
   "outputs": [],
   "source": [
    "train_data[train_data['Embarked'].isna()]\n",
    "train_data = train_data.dropna(subset='Embarked', how='any', inplace=False)\n",
    "#train_data.drop(train_data[train_data['Embarked'].isna()])"
   ]
  },
  {
   "cell_type": "code",
   "execution_count": 10,
   "id": "c06fde70",
   "metadata": {
    "execution": {
     "iopub.execute_input": "2023-12-22T04:01:17.782325Z",
     "iopub.status.busy": "2023-12-22T04:01:17.781818Z",
     "iopub.status.idle": "2023-12-22T04:01:17.796307Z",
     "shell.execute_reply": "2023-12-22T04:01:17.795471Z"
    },
    "papermill": {
     "duration": 0.027184,
     "end_time": "2023-12-22T04:01:17.798399",
     "exception": false,
     "start_time": "2023-12-22T04:01:17.771215",
     "status": "completed"
    },
    "tags": []
   },
   "outputs": [
    {
     "data": {
      "text/html": [
       "<div>\n",
       "<style scoped>\n",
       "    .dataframe tbody tr th:only-of-type {\n",
       "        vertical-align: middle;\n",
       "    }\n",
       "\n",
       "    .dataframe tbody tr th {\n",
       "        vertical-align: top;\n",
       "    }\n",
       "\n",
       "    .dataframe thead th {\n",
       "        text-align: right;\n",
       "    }\n",
       "</style>\n",
       "<table border=\"1\" class=\"dataframe\">\n",
       "  <thead>\n",
       "    <tr style=\"text-align: right;\">\n",
       "      <th></th>\n",
       "      <th>Sex</th>\n",
       "      <th>Ticket</th>\n",
       "      <th>Embarked</th>\n",
       "    </tr>\n",
       "  </thead>\n",
       "  <tbody>\n",
       "    <tr>\n",
       "      <th>0</th>\n",
       "      <td>male</td>\n",
       "      <td>330911</td>\n",
       "      <td>Q</td>\n",
       "    </tr>\n",
       "    <tr>\n",
       "      <th>1</th>\n",
       "      <td>female</td>\n",
       "      <td>363272</td>\n",
       "      <td>S</td>\n",
       "    </tr>\n",
       "    <tr>\n",
       "      <th>2</th>\n",
       "      <td>male</td>\n",
       "      <td>240276</td>\n",
       "      <td>Q</td>\n",
       "    </tr>\n",
       "    <tr>\n",
       "      <th>3</th>\n",
       "      <td>male</td>\n",
       "      <td>315154</td>\n",
       "      <td>S</td>\n",
       "    </tr>\n",
       "    <tr>\n",
       "      <th>4</th>\n",
       "      <td>female</td>\n",
       "      <td>3101298</td>\n",
       "      <td>S</td>\n",
       "    </tr>\n",
       "    <tr>\n",
       "      <th>...</th>\n",
       "      <td>...</td>\n",
       "      <td>...</td>\n",
       "      <td>...</td>\n",
       "    </tr>\n",
       "    <tr>\n",
       "      <th>413</th>\n",
       "      <td>male</td>\n",
       "      <td>A.5. 3236</td>\n",
       "      <td>S</td>\n",
       "    </tr>\n",
       "    <tr>\n",
       "      <th>414</th>\n",
       "      <td>female</td>\n",
       "      <td>PC 17758</td>\n",
       "      <td>C</td>\n",
       "    </tr>\n",
       "    <tr>\n",
       "      <th>415</th>\n",
       "      <td>male</td>\n",
       "      <td>SOTON/O.Q. 3101262</td>\n",
       "      <td>S</td>\n",
       "    </tr>\n",
       "    <tr>\n",
       "      <th>416</th>\n",
       "      <td>male</td>\n",
       "      <td>359309</td>\n",
       "      <td>S</td>\n",
       "    </tr>\n",
       "    <tr>\n",
       "      <th>417</th>\n",
       "      <td>male</td>\n",
       "      <td>2668</td>\n",
       "      <td>C</td>\n",
       "    </tr>\n",
       "  </tbody>\n",
       "</table>\n",
       "<p>418 rows × 3 columns</p>\n",
       "</div>"
      ],
      "text/plain": [
       "        Sex              Ticket Embarked\n",
       "0      male              330911        Q\n",
       "1    female              363272        S\n",
       "2      male              240276        Q\n",
       "3      male              315154        S\n",
       "4    female             3101298        S\n",
       "..      ...                 ...      ...\n",
       "413    male           A.5. 3236        S\n",
       "414  female            PC 17758        C\n",
       "415    male  SOTON/O.Q. 3101262        S\n",
       "416    male              359309        S\n",
       "417    male                2668        C\n",
       "\n",
       "[418 rows x 3 columns]"
      ]
     },
     "execution_count": 10,
     "metadata": {},
     "output_type": "execute_result"
    }
   ],
   "source": [
    "test_data.select_dtypes(include=['object', 'category'])\n"
   ]
  },
  {
   "cell_type": "code",
   "execution_count": 11,
   "id": "299cd959",
   "metadata": {
    "execution": {
     "iopub.execute_input": "2023-12-22T04:01:17.819952Z",
     "iopub.status.busy": "2023-12-22T04:01:17.819304Z",
     "iopub.status.idle": "2023-12-22T04:01:17.825503Z",
     "shell.execute_reply": "2023-12-22T04:01:17.824694Z"
    },
    "papermill": {
     "duration": 0.019799,
     "end_time": "2023-12-22T04:01:17.827883",
     "exception": false,
     "start_time": "2023-12-22T04:01:17.808084",
     "status": "completed"
    },
    "tags": []
   },
   "outputs": [],
   "source": [
    "test_data['Sex'] = test_data['Sex'].astype(str)\n",
    "test_data['Embarked'] = test_data['Embarked'].astype(str)\n",
    "test_data['Ticket'] = test_data['Ticket'].astype(str)\n"
   ]
  },
  {
   "cell_type": "code",
   "execution_count": 12,
   "id": "4d0f0d86",
   "metadata": {
    "execution": {
     "iopub.execute_input": "2023-12-22T04:01:17.849895Z",
     "iopub.status.busy": "2023-12-22T04:01:17.849281Z",
     "iopub.status.idle": "2023-12-22T04:01:17.861352Z",
     "shell.execute_reply": "2023-12-22T04:01:17.860451Z"
    },
    "papermill": {
     "duration": 0.025713,
     "end_time": "2023-12-22T04:01:17.863831",
     "exception": false,
     "start_time": "2023-12-22T04:01:17.838118",
     "status": "completed"
    },
    "tags": []
   },
   "outputs": [],
   "source": [
    "quant = train_data[['Sex', 'Embarked', 'Ticket']]\n",
    "label_encoder = LabelEncoder()\n",
    "for i in quant.columns:\n",
    "    train_data[i] = label_encoder.fit_transform(train_data[i])\n",
    "\n",
    "label_encoder = LabelEncoder()\n",
    "for i in quant.columns:\n",
    "    test_data[i] = label_encoder.fit_transform(test_data[i])"
   ]
  },
  {
   "cell_type": "code",
   "execution_count": 13,
   "id": "cb385114",
   "metadata": {
    "execution": {
     "iopub.execute_input": "2023-12-22T04:01:17.885088Z",
     "iopub.status.busy": "2023-12-22T04:01:17.884468Z",
     "iopub.status.idle": "2023-12-22T04:01:17.890223Z",
     "shell.execute_reply": "2023-12-22T04:01:17.889202Z"
    },
    "papermill": {
     "duration": 0.019044,
     "end_time": "2023-12-22T04:01:17.892579",
     "exception": false,
     "start_time": "2023-12-22T04:01:17.873535",
     "status": "completed"
    },
    "tags": []
   },
   "outputs": [],
   "source": [
    "y_train, X_train, = train_data['Survived'],train_data.drop('Survived',axis=1)"
   ]
  },
  {
   "cell_type": "code",
   "execution_count": 14,
   "id": "b6bf1e2e",
   "metadata": {
    "execution": {
     "iopub.execute_input": "2023-12-22T04:01:17.914403Z",
     "iopub.status.busy": "2023-12-22T04:01:17.913251Z",
     "iopub.status.idle": "2023-12-22T04:01:17.928410Z",
     "shell.execute_reply": "2023-12-22T04:01:17.927294Z"
    },
    "papermill": {
     "duration": 0.028769,
     "end_time": "2023-12-22T04:01:17.930873",
     "exception": false,
     "start_time": "2023-12-22T04:01:17.902104",
     "status": "completed"
    },
    "tags": []
   },
   "outputs": [
    {
     "name": "stdout",
     "output_type": "stream",
     "text": [
      "Resampled dataset shape 889\n",
      "Resampled dataset shape 1098\n"
     ]
    }
   ],
   "source": [
    "print('Resampled dataset shape %s' % len(X_train))\n",
    "ros = RandomOverSampler(random_state=1)\n",
    "X_train, y_train = ros.fit_resample(X_train, y_train)\n",
    "print('Resampled dataset shape %s' % len(X_train))\n"
   ]
  },
  {
   "cell_type": "code",
   "execution_count": 15,
   "id": "f04dd019",
   "metadata": {
    "execution": {
     "iopub.execute_input": "2023-12-22T04:01:17.952597Z",
     "iopub.status.busy": "2023-12-22T04:01:17.951808Z",
     "iopub.status.idle": "2023-12-22T04:01:17.962964Z",
     "shell.execute_reply": "2023-12-22T04:01:17.962036Z"
    },
    "papermill": {
     "duration": 0.024672,
     "end_time": "2023-12-22T04:01:17.965461",
     "exception": false,
     "start_time": "2023-12-22T04:01:17.940789",
     "status": "completed"
    },
    "tags": []
   },
   "outputs": [],
   "source": [
    "y_test, X_test = pd.read_csv('/kaggle/input/titanic/gender_submission.csv'), test_data\n",
    "y_test = y_test['Survived'].to_numpy().reshape(-1,1)\n"
   ]
  },
  {
   "cell_type": "code",
   "execution_count": 16,
   "id": "f785aa9a",
   "metadata": {
    "execution": {
     "iopub.execute_input": "2023-12-22T04:01:17.986964Z",
     "iopub.status.busy": "2023-12-22T04:01:17.986587Z",
     "iopub.status.idle": "2023-12-22T04:01:18.638999Z",
     "shell.execute_reply": "2023-12-22T04:01:18.637682Z"
    },
    "papermill": {
     "duration": 0.666261,
     "end_time": "2023-12-22T04:01:18.641607",
     "exception": false,
     "start_time": "2023-12-22T04:01:17.975346",
     "status": "completed"
    },
    "tags": []
   },
   "outputs": [
    {
     "name": "stdout",
     "output_type": "stream",
     "text": [
      "Random Forest Accuracy: 61.72%\n",
      "RF  F1 Score: 22.33%\n"
     ]
    },
    {
     "data": {
      "image/png": "[encoded data removed]",
      "text/plain": [
       "<Figure size 640x480 with 2 Axes>"
      ]
     },
     "metadata": {},
     "output_type": "display_data"
    }
   ],
   "source": [
    "rf = RandomForestClassifier(n_estimators=100,max_depth=30, random_state=1,bootstrap=True) \n",
    "rf.fit(X_train, y_train)\n",
    "y_pred = rf.predict(X_test)\n",
    "accuracy = accuracy_score(y_test, y_pred)\n",
    "print(f'Random Forest Accuracy: {accuracy*100:.2f}%')\n",
    "print(f'RF  F1 Score: {f1_score(y_test, y_pred)*100:.2f}%')\n",
    "\n",
    "cm = confusion_matrix(y_test, y_pred)\n",
    "disp = ConfusionMatrixDisplay(confusion_matrix=cm, display_labels=rf.classes_)\n",
    "disp.plot()\n",
    "plt.show()"
   ]
  },
  {
   "cell_type": "code",
   "execution_count": 17,
   "id": "5639f506",
   "metadata": {
    "execution": {
     "iopub.execute_input": "2023-12-22T04:01:18.664749Z",
     "iopub.status.busy": "2023-12-22T04:01:18.664350Z",
     "iopub.status.idle": "2023-12-22T04:01:19.183552Z",
     "shell.execute_reply": "2023-12-22T04:01:19.182270Z"
    },
    "papermill": {
     "duration": 0.53455,
     "end_time": "2023-12-22T04:01:19.186562",
     "exception": false,
     "start_time": "2023-12-22T04:01:18.652012",
     "status": "completed"
    },
    "tags": []
   },
   "outputs": [
    {
     "name": "stdout",
     "output_type": "stream",
     "text": [
      "Logistic Regression Accuracy: 71.29%\n",
      "Logistic Regression F1 Score: 42.31%\n"
     ]
    },
    {
     "data": {
      "image/png": "[encoded data removed]",
      "text/plain": [
       "<Figure size 640x480 with 2 Axes>"
      ]
     },
     "metadata": {},
     "output_type": "display_data"
    }
   ],
   "source": [
    "classifier = LogisticRegression(max_iter=10000, C=0.01, random_state=1)\n",
    "classifier.fit(X_train, y_train)\n",
    "\n",
    "# Predict on the testing data\n",
    "y_pred2 = classifier.predict(X_test)\n",
    "\n",
    "# Evaluate the accuracy\n",
    "accuracy = accuracy_score(y_test, y_pred2)\n",
    "print(f'Logistic Regression Accuracy: {accuracy*100:.2f}%')\n",
    "print(f'Logistic Regression F1 Score: {f1_score(y_test, y_pred2)*100:.2f}%')\n",
    "\n",
    "cm = confusion_matrix(y_test, y_pred2)\n",
    "disp = ConfusionMatrixDisplay(confusion_matrix=cm, display_labels=classifier.classes_)\n",
    "disp.plot()\n",
    "plt.show()"
   ]
  },
  {
   "cell_type": "code",
   "execution_count": 18,
   "id": "580bfd88",
   "metadata": {
    "execution": {
     "iopub.execute_input": "2023-12-22T04:01:19.210328Z",
     "iopub.status.busy": "2023-12-22T04:01:19.209862Z",
     "iopub.status.idle": "2023-12-22T04:01:19.220555Z",
     "shell.execute_reply": "2023-12-22T04:01:19.219453Z"
    },
    "papermill": {
     "duration": 0.02564,
     "end_time": "2023-12-22T04:01:19.223203",
     "exception": false,
     "start_time": "2023-12-22T04:01:19.197563",
     "status": "completed"
    },
    "tags": []
   },
   "outputs": [
    {
     "data": {
      "text/plain": [
       "PassengerId    12.459678\n",
       "Pclass         12.459678\n",
       "Sex             0.000000\n",
       "Age            12.459678\n",
       "SibSp          12.459678\n",
       "Parch          12.459678\n",
       "Ticket         31.000000\n",
       "Fare           12.459678\n",
       "Embarked        0.000000\n",
       "Name: 152, dtype: float64"
      ]
     },
     "execution_count": 18,
     "metadata": {},
     "output_type": "execute_result"
    }
   ],
   "source": [
    "test_data[test_data[\"PassengerId\"]==12.459678]['PassengerId'] = 1044.0\n",
    "test_data.iloc[152]"
   ]
  },
  {
   "cell_type": "code",
   "execution_count": 19,
   "id": "7d8c98b6",
   "metadata": {
    "execution": {
     "iopub.execute_input": "2023-12-22T04:01:19.246777Z",
     "iopub.status.busy": "2023-12-22T04:01:19.246382Z",
     "iopub.status.idle": "2023-12-22T04:01:19.253221Z",
     "shell.execute_reply": "2023-12-22T04:01:19.252049Z"
    },
    "papermill": {
     "duration": 0.021492,
     "end_time": "2023-12-22T04:01:19.255571",
     "exception": false,
     "start_time": "2023-12-22T04:01:19.234079",
     "status": "completed"
    },
    "tags": []
   },
   "outputs": [],
   "source": [
    "test_data['PassengerId'] = test_data['PassengerId'].astype(int)\n",
    "\n",
    "test_data['PassengerId'] = test_data['PassengerId'].astype('Int32')\n"
   ]
  },
  {
   "cell_type": "code",
   "execution_count": null,
   "id": "2b0c99e8",
   "metadata": {
    "papermill": {
     "duration": 0.011132,
     "end_time": "2023-12-22T04:01:19.278445",
     "exception": false,
     "start_time": "2023-12-22T04:01:19.267313",
     "status": "completed"
    },
    "tags": []
   },
   "outputs": [],
   "source": []
  },
  {
   "cell_type": "code",
   "execution_count": 20,
   "id": "5591b8ad",
   "metadata": {
    "execution": {
     "iopub.execute_input": "2023-12-22T04:01:19.302355Z",
     "iopub.status.busy": "2023-12-22T04:01:19.301929Z",
     "iopub.status.idle": "2023-12-22T04:01:19.313831Z",
     "shell.execute_reply": "2023-12-22T04:01:19.312577Z"
    },
    "papermill": {
     "duration": 0.027877,
     "end_time": "2023-12-22T04:01:19.317276",
     "exception": false,
     "start_time": "2023-12-22T04:01:19.289399",
     "status": "completed"
    },
    "tags": []
   },
   "outputs": [
    {
     "name": "stdout",
     "output_type": "stream",
     "text": [
      "Your submission was successfully saved!\n"
     ]
    }
   ],
   "source": [
    "output = pd.DataFrame({'PassengerId': test_data['PassengerId'], 'Survived': y_pred2})\n",
    "output.to_csv('submission(2).csv', index=False)\n",
    "print(\"Your submission was successfully saved!\")"
   ]
  },
  {
   "cell_type": "code",
   "execution_count": 21,
   "id": "a76467ec",
   "metadata": {
    "execution": {
     "iopub.execute_input": "2023-12-22T04:01:19.342421Z",
     "iopub.status.busy": "2023-12-22T04:01:19.341842Z",
     "iopub.status.idle": "2023-12-22T04:01:19.353516Z",
     "shell.execute_reply": "2023-12-22T04:01:19.352403Z"
    },
    "papermill": {
     "duration": 0.026544,
     "end_time": "2023-12-22T04:01:19.356057",
     "exception": false,
     "start_time": "2023-12-22T04:01:19.329513",
     "status": "completed"
    },
    "tags": []
   },
   "outputs": [],
   "source": [
    "df= pd.read_csv('/kaggle/working/submission(2).csv')\n",
    "df.iloc[152] = (1044,0)\n",
    "df[df['PassengerId']>1043]\n",
    "df.to_csv('submission(2).csv', index=False)\n"
   ]
  }
 ],
 "metadata": {
  "kaggle": {
   "accelerator": "none",
   "dataSources": [
    {
     "databundleVersionId": 26502,
     "sourceId": 3136,
     "sourceType": "competition"
    }
   ],
   "dockerImageVersionId": 30626,
   "isGpuEnabled": false,
   "isInternetEnabled": true,
   "language": "python",
   "sourceType": "notebook"
  },
  "kernelspec": {
   "display_name": "Python 3",
   "language": "python",
   "name": "python3"
  },
  "language_info": {
   "codemirror_mode": {
    "name": "ipython",
    "version": 3
   },
   "file_extension": ".py",
   "mimetype": "text/x-python",
   "name": "python",
   "nbconvert_exporter": "python",
   "pygments_lexer": "ipython3",
   "version": "3.10.12"
  },
  "papermill": {
   "default_parameters": {},
   "duration": 8.986703,
   "end_time": "2023-12-22T04:01:19.987460",
   "environment_variables": {},
   "exception": null,
   "input_path": "__notebook__.ipynb",
   "output_path": "__notebook__.ipynb",
   "parameters": {},
   "start_time": "2023-12-22T04:01:11.000757",
   "version": "2.4.0"
  }
 },
 "nbformat": 4,
 "nbformat_minor": 5
}
